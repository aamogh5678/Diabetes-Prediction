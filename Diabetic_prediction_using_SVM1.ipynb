{
 "cells": [
  {
   "cell_type": "code",
   "execution_count": null,
   "id": "8b469070",
   "metadata": {
    "id": "8b469070",
    "is_executing": true
   },
   "outputs": [],
   "source": [
    "#importing\n",
    "import pandas as pd"
   ]
  },
  {
   "cell_type": "code",
   "execution_count": null,
   "id": "558a0235",
   "metadata": {
    "id": "558a0235"
   },
   "outputs": [],
   "source": [
    "# importing csv using read_csv method\n",
    "data = pd.read_csv(\"C:\\\\Users\\\\HP\\\\Desktop\\\\DiabetesPrediction_SVMModel-main\\\\diabetes_prediction_dataset.csv\")"
   ]
  },
  {
   "cell_type": "code",
   "execution_count": null,
   "id": "e16b1832",
   "metadata": {
    "colab": {
     "base_uri": "https://localhost:8080/",
     "height": 206
    },
    "id": "e16b1832",
    "outputId": "adad5be9-4365-40b7-d5cc-7bdfd76a20ca"
   },
   "outputs": [
    {
     "data": {
      "text/html": [
       "<div>\n",
       "<style scoped>\n",
       "    .dataframe tbody tr th:only-of-type {\n",
       "        vertical-align: middle;\n",
       "    }\n",
       "\n",
       "    .dataframe tbody tr th {\n",
       "        vertical-align: top;\n",
       "    }\n",
       "\n",
       "    .dataframe thead th {\n",
       "        text-align: right;\n",
       "    }\n",
       "</style>\n",
       "<table border=\"1\" class=\"dataframe\">\n",
       "  <thead>\n",
       "    <tr style=\"text-align: right;\">\n",
       "      <th></th>\n",
       "      <th>gender</th>\n",
       "      <th>age</th>\n",
       "      <th>hypertension</th>\n",
       "      <th>heart_disease</th>\n",
       "      <th>smoking_history</th>\n",
       "      <th>bmi</th>\n",
       "      <th>HbA1c_level</th>\n",
       "      <th>blood_glucose_level</th>\n",
       "      <th>diabetes</th>\n",
       "    </tr>\n",
       "  </thead>\n",
       "  <tbody>\n",
       "    <tr>\n",
       "      <th>0</th>\n",
       "      <td>Female</td>\n",
       "      <td>80.0</td>\n",
       "      <td>0</td>\n",
       "      <td>1</td>\n",
       "      <td>never</td>\n",
       "      <td>25.19</td>\n",
       "      <td>6.6</td>\n",
       "      <td>140</td>\n",
       "      <td>0</td>\n",
       "    </tr>\n",
       "    <tr>\n",
       "      <th>1</th>\n",
       "      <td>Female</td>\n",
       "      <td>54.0</td>\n",
       "      <td>0</td>\n",
       "      <td>0</td>\n",
       "      <td>No Info</td>\n",
       "      <td>27.32</td>\n",
       "      <td>6.6</td>\n",
       "      <td>80</td>\n",
       "      <td>0</td>\n",
       "    </tr>\n",
       "    <tr>\n",
       "      <th>2</th>\n",
       "      <td>Male</td>\n",
       "      <td>28.0</td>\n",
       "      <td>0</td>\n",
       "      <td>0</td>\n",
       "      <td>never</td>\n",
       "      <td>27.32</td>\n",
       "      <td>5.7</td>\n",
       "      <td>158</td>\n",
       "      <td>0</td>\n",
       "    </tr>\n",
       "    <tr>\n",
       "      <th>3</th>\n",
       "      <td>Female</td>\n",
       "      <td>36.0</td>\n",
       "      <td>0</td>\n",
       "      <td>0</td>\n",
       "      <td>current</td>\n",
       "      <td>23.45</td>\n",
       "      <td>5.0</td>\n",
       "      <td>155</td>\n",
       "      <td>0</td>\n",
       "    </tr>\n",
       "    <tr>\n",
       "      <th>4</th>\n",
       "      <td>Male</td>\n",
       "      <td>76.0</td>\n",
       "      <td>1</td>\n",
       "      <td>1</td>\n",
       "      <td>current</td>\n",
       "      <td>20.14</td>\n",
       "      <td>4.8</td>\n",
       "      <td>155</td>\n",
       "      <td>0</td>\n",
       "    </tr>\n",
       "  </tbody>\n",
       "</table>\n",
       "</div>"
      ],
      "text/plain": [
       "   gender   age  hypertension  heart_disease smoking_history    bmi  \\\n",
       "0  Female  80.0             0              1           never  25.19   \n",
       "1  Female  54.0             0              0         No Info  27.32   \n",
       "2    Male  28.0             0              0           never  27.32   \n",
       "3  Female  36.0             0              0         current  23.45   \n",
       "4    Male  76.0             1              1         current  20.14   \n",
       "\n",
       "   HbA1c_level  blood_glucose_level  diabetes  \n",
       "0          6.6                  140         0  \n",
       "1          6.6                   80         0  \n",
       "2          5.7                  158         0  \n",
       "3          5.0                  155         0  \n",
       "4          4.8                  155         0  "
      ]
     },
     "execution_count": 37,
     "metadata": {},
     "output_type": "execute_result"
    }
   ],
   "source": [
    "#retriving the first five rows of data\n",
    "data.head()"
   ]
  },
  {
   "cell_type": "code",
   "execution_count": null,
   "id": "2ad447f0",
   "metadata": {
    "colab": {
     "base_uri": "https://localhost:8080/"
    },
    "id": "2ad447f0",
    "outputId": "aa42e219-3bfe-414a-8826-957426e03e96"
   },
   "outputs": [
    {
     "data": {
      "text/plain": [
       "diabetes\n",
       "0    91500\n",
       "1     8500\n",
       "Name: count, dtype: int64"
      ]
     },
     "execution_count": 38,
     "metadata": {},
     "output_type": "execute_result"
    }
   ],
   "source": [
    "#number of values present in row Diabetes\n",
    "data['diabetes'].value_counts()"
   ]
  },
  {
   "cell_type": "markdown",
   "id": "3d1290e7",
   "metadata": {
    "id": "3d1290e7"
   },
   "source": [
    "0 --> non diabetes\n",
    "1 --> diabetes"
   ]
  },
  {
   "cell_type": "code",
   "execution_count": null,
   "id": "23175aab",
   "metadata": {
    "colab": {
     "base_uri": "https://localhost:8080/"
    },
    "id": "23175aab",
    "outputId": "9797601b-61c8-49a9-f1fb-bb7d2d8b555d"
   },
   "outputs": [
    {
     "data": {
      "text/plain": [
       "gender                 0\n",
       "age                    0\n",
       "hypertension           0\n",
       "heart_disease          0\n",
       "smoking_history        0\n",
       "bmi                    0\n",
       "HbA1c_level            0\n",
       "blood_glucose_level    0\n",
       "diabetes               0\n",
       "dtype: int64"
      ]
     },
     "execution_count": 39,
     "metadata": {},
     "output_type": "execute_result"
    }
   ],
   "source": [
    "#checking whether data contains null value or not\n",
    "data.isnull().sum()"
   ]
  },
  {
   "cell_type": "code",
   "execution_count": null,
   "id": "Wmio1_atJXyJ",
   "metadata": {
    "id": "Wmio1_atJXyJ"
   },
   "outputs": [],
   "source": [
    "data.dropna(inplace = True)"
   ]
  },
  {
   "cell_type": "code",
   "execution_count": null,
   "id": "RoV1FtzdJqV4",
   "metadata": {
    "colab": {
     "base_uri": "https://localhost:8080/"
    },
    "id": "RoV1FtzdJqV4",
    "outputId": "b42302e0-15c6-4f9f-c64c-9155641a3a09"
   },
   "outputs": [
    {
     "data": {
      "text/plain": [
       "gender                 0\n",
       "age                    0\n",
       "hypertension           0\n",
       "heart_disease          0\n",
       "smoking_history        0\n",
       "bmi                    0\n",
       "HbA1c_level            0\n",
       "blood_glucose_level    0\n",
       "diabetes               0\n",
       "dtype: int64"
      ]
     },
     "execution_count": 41,
     "metadata": {},
     "output_type": "execute_result"
    }
   ],
   "source": [
    "data.isnull().sum()"
   ]
  },
  {
   "cell_type": "code",
   "execution_count": null,
   "id": "e2b67b73",
   "metadata": {
    "colab": {
     "base_uri": "https://localhost:8080/",
     "height": 300
    },
    "id": "e2b67b73",
    "outputId": "314582e7-4351-4559-b905-0c06bd62b71d"
   },
   "outputs": [
    {
     "data": {
      "text/html": [
       "<div>\n",
       "<style scoped>\n",
       "    .dataframe tbody tr th:only-of-type {\n",
       "        vertical-align: middle;\n",
       "    }\n",
       "\n",
       "    .dataframe tbody tr th {\n",
       "        vertical-align: top;\n",
       "    }\n",
       "\n",
       "    .dataframe thead th {\n",
       "        text-align: right;\n",
       "    }\n",
       "</style>\n",
       "<table border=\"1\" class=\"dataframe\">\n",
       "  <thead>\n",
       "    <tr style=\"text-align: right;\">\n",
       "      <th></th>\n",
       "      <th>age</th>\n",
       "      <th>hypertension</th>\n",
       "      <th>heart_disease</th>\n",
       "      <th>bmi</th>\n",
       "      <th>HbA1c_level</th>\n",
       "      <th>blood_glucose_level</th>\n",
       "      <th>diabetes</th>\n",
       "    </tr>\n",
       "  </thead>\n",
       "  <tbody>\n",
       "    <tr>\n",
       "      <th>count</th>\n",
       "      <td>100000.000000</td>\n",
       "      <td>100000.00000</td>\n",
       "      <td>100000.000000</td>\n",
       "      <td>100000.000000</td>\n",
       "      <td>100000.000000</td>\n",
       "      <td>100000.000000</td>\n",
       "      <td>100000.000000</td>\n",
       "    </tr>\n",
       "    <tr>\n",
       "      <th>mean</th>\n",
       "      <td>41.885856</td>\n",
       "      <td>0.07485</td>\n",
       "      <td>0.039420</td>\n",
       "      <td>27.320767</td>\n",
       "      <td>5.527507</td>\n",
       "      <td>138.058060</td>\n",
       "      <td>0.085000</td>\n",
       "    </tr>\n",
       "    <tr>\n",
       "      <th>std</th>\n",
       "      <td>22.516840</td>\n",
       "      <td>0.26315</td>\n",
       "      <td>0.194593</td>\n",
       "      <td>6.636783</td>\n",
       "      <td>1.070672</td>\n",
       "      <td>40.708136</td>\n",
       "      <td>0.278883</td>\n",
       "    </tr>\n",
       "    <tr>\n",
       "      <th>min</th>\n",
       "      <td>0.080000</td>\n",
       "      <td>0.00000</td>\n",
       "      <td>0.000000</td>\n",
       "      <td>10.010000</td>\n",
       "      <td>3.500000</td>\n",
       "      <td>80.000000</td>\n",
       "      <td>0.000000</td>\n",
       "    </tr>\n",
       "    <tr>\n",
       "      <th>25%</th>\n",
       "      <td>24.000000</td>\n",
       "      <td>0.00000</td>\n",
       "      <td>0.000000</td>\n",
       "      <td>23.630000</td>\n",
       "      <td>4.800000</td>\n",
       "      <td>100.000000</td>\n",
       "      <td>0.000000</td>\n",
       "    </tr>\n",
       "    <tr>\n",
       "      <th>50%</th>\n",
       "      <td>43.000000</td>\n",
       "      <td>0.00000</td>\n",
       "      <td>0.000000</td>\n",
       "      <td>27.320000</td>\n",
       "      <td>5.800000</td>\n",
       "      <td>140.000000</td>\n",
       "      <td>0.000000</td>\n",
       "    </tr>\n",
       "    <tr>\n",
       "      <th>75%</th>\n",
       "      <td>60.000000</td>\n",
       "      <td>0.00000</td>\n",
       "      <td>0.000000</td>\n",
       "      <td>29.580000</td>\n",
       "      <td>6.200000</td>\n",
       "      <td>159.000000</td>\n",
       "      <td>0.000000</td>\n",
       "    </tr>\n",
       "    <tr>\n",
       "      <th>max</th>\n",
       "      <td>80.000000</td>\n",
       "      <td>1.00000</td>\n",
       "      <td>1.000000</td>\n",
       "      <td>95.690000</td>\n",
       "      <td>9.000000</td>\n",
       "      <td>300.000000</td>\n",
       "      <td>1.000000</td>\n",
       "    </tr>\n",
       "  </tbody>\n",
       "</table>\n",
       "</div>"
      ],
      "text/plain": [
       "                 age  hypertension  heart_disease            bmi  \\\n",
       "count  100000.000000  100000.00000  100000.000000  100000.000000   \n",
       "mean       41.885856       0.07485       0.039420      27.320767   \n",
       "std        22.516840       0.26315       0.194593       6.636783   \n",
       "min         0.080000       0.00000       0.000000      10.010000   \n",
       "25%        24.000000       0.00000       0.000000      23.630000   \n",
       "50%        43.000000       0.00000       0.000000      27.320000   \n",
       "75%        60.000000       0.00000       0.000000      29.580000   \n",
       "max        80.000000       1.00000       1.000000      95.690000   \n",
       "\n",
       "         HbA1c_level  blood_glucose_level       diabetes  \n",
       "count  100000.000000        100000.000000  100000.000000  \n",
       "mean        5.527507           138.058060       0.085000  \n",
       "std         1.070672            40.708136       0.278883  \n",
       "min         3.500000            80.000000       0.000000  \n",
       "25%         4.800000           100.000000       0.000000  \n",
       "50%         5.800000           140.000000       0.000000  \n",
       "75%         6.200000           159.000000       0.000000  \n",
       "max         9.000000           300.000000       1.000000  "
      ]
     },
     "execution_count": 42,
     "metadata": {},
     "output_type": "execute_result"
    }
   ],
   "source": [
    "#getting the statistical measures of the data\n",
    "data.describe()"
   ]
  },
  {
   "cell_type": "code",
   "execution_count": null,
   "id": "46895c48",
   "metadata": {
    "colab": {
     "base_uri": "https://localhost:8080/",
     "height": 200
    },
    "id": "46895c48",
    "outputId": "8fe9f4c5-8263-4f68-ae15-4b96959dfdfc"
   },
   "outputs": [
    {
     "name": "stdout",
     "output_type": "stream",
     "text": [
      "                age  hypertension  heart_disease        bmi  HbA1c_level  \\\n",
      "diabetes                                                                   \n",
      "0         40.115187      0.058984       0.029235  26.887163     5.396761   \n",
      "1         60.946588      0.245647       0.149059  31.988382     6.934953   \n",
      "\n",
      "          blood_glucose_level  diabetes  \n",
      "diabetes                                 \n",
      "0                  132.852470       0.0  \n",
      "1                  194.094706       1.0  \n"
     ]
    }
   ],
   "source": [
    "# Step 1: Ensure numeric data only\n",
    "numeric_data = data.select_dtypes(include=['number'])\n",
    "\n",
    "# Step 2: Perform groupby and mean\n",
    "result = numeric_data.groupby(data['diabetes']).mean()\n",
    "\n",
    "# Step 3: Print results\n",
    "print(result)\n"
   ]
  },
  {
   "cell_type": "markdown",
   "id": "73cba097",
   "metadata": {
    "id": "73cba097"
   },
   "source": [
    "Label Encoding : Converting of categorical data into numerical values for discrete values"
   ]
  },
  {
   "cell_type": "code",
   "execution_count": null,
   "id": "3216e529",
   "metadata": {
    "id": "3216e529"
   },
   "outputs": [],
   "source": [
    "#importing LabelEncoder from scikit-learn preprocessing\n",
    "from sklearn.preprocessing import LabelEncoder"
   ]
  },
  {
   "cell_type": "code",
   "execution_count": null,
   "id": "fad8d4d9",
   "metadata": {
    "id": "fad8d4d9"
   },
   "outputs": [],
   "source": [
    "#assigning LabelEncoder to le\n",
    "le = LabelEncoder()"
   ]
  },
  {
   "cell_type": "code",
   "execution_count": null,
   "id": "46b6ef01",
   "metadata": {
    "id": "46b6ef01"
   },
   "outputs": [],
   "source": [
    "#label encoding the gender column using fit_transform\n",
    "data['gender'] = le.fit_transform(data['gender'])"
   ]
  },
  {
   "cell_type": "code",
   "execution_count": null,
   "id": "4d75e209",
   "metadata": {
    "id": "4d75e209"
   },
   "outputs": [],
   "source": [
    "#label encoding the smoking history column using fit_transform\n",
    "data['smoking_history'] = le.fit_transform(data['smoking_history'])"
   ]
  },
  {
   "cell_type": "code",
   "execution_count": null,
   "id": "f009f0a0",
   "metadata": {
    "colab": {
     "base_uri": "https://localhost:8080/",
     "height": 206
    },
    "id": "f009f0a0",
    "outputId": "ec66ef7c-d445-4382-f160-8a15e0b5c0ee"
   },
   "outputs": [
    {
     "data": {
      "text/html": [
       "<div>\n",
       "<style scoped>\n",
       "    .dataframe tbody tr th:only-of-type {\n",
       "        vertical-align: middle;\n",
       "    }\n",
       "\n",
       "    .dataframe tbody tr th {\n",
       "        vertical-align: top;\n",
       "    }\n",
       "\n",
       "    .dataframe thead th {\n",
       "        text-align: right;\n",
       "    }\n",
       "</style>\n",
       "<table border=\"1\" class=\"dataframe\">\n",
       "  <thead>\n",
       "    <tr style=\"text-align: right;\">\n",
       "      <th></th>\n",
       "      <th>gender</th>\n",
       "      <th>age</th>\n",
       "      <th>hypertension</th>\n",
       "      <th>heart_disease</th>\n",
       "      <th>smoking_history</th>\n",
       "      <th>bmi</th>\n",
       "      <th>HbA1c_level</th>\n",
       "      <th>blood_glucose_level</th>\n",
       "      <th>diabetes</th>\n",
       "    </tr>\n",
       "  </thead>\n",
       "  <tbody>\n",
       "    <tr>\n",
       "      <th>0</th>\n",
       "      <td>0</td>\n",
       "      <td>80.0</td>\n",
       "      <td>0</td>\n",
       "      <td>1</td>\n",
       "      <td>4</td>\n",
       "      <td>25.19</td>\n",
       "      <td>6.6</td>\n",
       "      <td>140</td>\n",
       "      <td>0</td>\n",
       "    </tr>\n",
       "    <tr>\n",
       "      <th>1</th>\n",
       "      <td>0</td>\n",
       "      <td>54.0</td>\n",
       "      <td>0</td>\n",
       "      <td>0</td>\n",
       "      <td>0</td>\n",
       "      <td>27.32</td>\n",
       "      <td>6.6</td>\n",
       "      <td>80</td>\n",
       "      <td>0</td>\n",
       "    </tr>\n",
       "    <tr>\n",
       "      <th>2</th>\n",
       "      <td>1</td>\n",
       "      <td>28.0</td>\n",
       "      <td>0</td>\n",
       "      <td>0</td>\n",
       "      <td>4</td>\n",
       "      <td>27.32</td>\n",
       "      <td>5.7</td>\n",
       "      <td>158</td>\n",
       "      <td>0</td>\n",
       "    </tr>\n",
       "    <tr>\n",
       "      <th>3</th>\n",
       "      <td>0</td>\n",
       "      <td>36.0</td>\n",
       "      <td>0</td>\n",
       "      <td>0</td>\n",
       "      <td>1</td>\n",
       "      <td>23.45</td>\n",
       "      <td>5.0</td>\n",
       "      <td>155</td>\n",
       "      <td>0</td>\n",
       "    </tr>\n",
       "    <tr>\n",
       "      <th>4</th>\n",
       "      <td>1</td>\n",
       "      <td>76.0</td>\n",
       "      <td>1</td>\n",
       "      <td>1</td>\n",
       "      <td>1</td>\n",
       "      <td>20.14</td>\n",
       "      <td>4.8</td>\n",
       "      <td>155</td>\n",
       "      <td>0</td>\n",
       "    </tr>\n",
       "  </tbody>\n",
       "</table>\n",
       "</div>"
      ],
      "text/plain": [
       "   gender   age  hypertension  heart_disease  smoking_history    bmi  \\\n",
       "0       0  80.0             0              1                4  25.19   \n",
       "1       0  54.0             0              0                0  27.32   \n",
       "2       1  28.0             0              0                4  27.32   \n",
       "3       0  36.0             0              0                1  23.45   \n",
       "4       1  76.0             1              1                1  20.14   \n",
       "\n",
       "   HbA1c_level  blood_glucose_level  diabetes  \n",
       "0          6.6                  140         0  \n",
       "1          6.6                   80         0  \n",
       "2          5.7                  158         0  \n",
       "3          5.0                  155         0  \n",
       "4          4.8                  155         0  "
      ]
     },
     "execution_count": 48,
     "metadata": {},
     "output_type": "execute_result"
    }
   ],
   "source": [
    "#Retriving data after convertion\n",
    "data.head()"
   ]
  },
  {
   "cell_type": "markdown",
   "id": "60a4aea0",
   "metadata": {
    "id": "60a4aea0"
   },
   "source": [
    "spliting the data to do train test split"
   ]
  },
  {
   "cell_type": "code",
   "execution_count": null,
   "id": "5f64394c",
   "metadata": {
    "id": "5f64394c"
   },
   "outputs": [],
   "source": [
    "#importing the train_test_split frm scikit-learn model selection\n",
    "from sklearn.model_selection import train_test_split"
   ]
  },
  {
   "cell_type": "code",
   "execution_count": null,
   "id": "d8084c4d",
   "metadata": {
    "id": "d8084c4d"
   },
   "outputs": [],
   "source": [
    "#assigning independent variables to X\n",
    "X = data.drop(\"diabetes\", axis = 1)"
   ]
  },
  {
   "cell_type": "code",
   "execution_count": null,
   "id": "308abb16",
   "metadata": {
    "id": "308abb16"
   },
   "outputs": [],
   "source": [
    "#assigning dependent variables to y\n",
    "y = data[\"diabetes\"]"
   ]
  },
  {
   "cell_type": "code",
   "execution_count": null,
   "id": "63203081",
   "metadata": {
    "id": "63203081"
   },
   "outputs": [],
   "source": [
    "#spliting the test and train data\n",
    "X_train, X_test, y_train, y_test = train_test_split(X,y,test_size=0.2,random_state = 42)"
   ]
  },
  {
   "cell_type": "code",
   "execution_count": null,
   "id": "9e274592",
   "metadata": {
    "colab": {
     "base_uri": "https://localhost:8080/"
    },
    "id": "9e274592",
    "outputId": "2189295d-b7be-43cf-ac43-1695d570e169"
   },
   "outputs": [
    {
     "name": "stdout",
     "output_type": "stream",
     "text": [
      "(80000, 8) (20000, 8) (80000,) (20000,)\n"
     ]
    }
   ],
   "source": [
    "#printing the shape of test and train data\n",
    "print(X_train.shape,X_test.shape, y_train.shape, y_test.shape)"
   ]
  },
  {
   "cell_type": "markdown",
   "id": "cd99e02b",
   "metadata": {
    "id": "cd99e02b"
   },
   "source": [
    "Model creation"
   ]
  },
  {
   "cell_type": "markdown",
   "id": "b252bc2d",
   "metadata": {
    "id": "b252bc2d"
   },
   "source": [
    "\n",
    "Traning the SVM Classifier\n"
   ]
  },
  {
   "cell_type": "code",
   "execution_count": null,
   "id": "f4346fbd",
   "metadata": {},
   "outputs": [
    {
     "data": {
      "text/plain": [
       "['scaler.pkl']"
      ]
     },
     "execution_count": 54,
     "metadata": {},
     "output_type": "execute_result"
    }
   ],
   "source": [
    "#importing support vector machine from scikit-learn\n",
    "from sklearn import svm\n",
    "from sklearn.preprocessing import StandardScaler\n",
    "import joblib\n",
    "\n",
    "# Assuming 'X' is your feature data and 'y' is your target data\n",
    "# Initializing StandardScaler\n",
    "scaler = StandardScaler()\n",
    "\n",
    "# Fitting and transforming the data\n",
    "X_scaled = scaler.fit_transform(X)\n",
    "\n",
    "# Train your model using the scaled data\n",
    "cls = svm.SVC(kernel='linear')\n",
    "cls.fit(X_scaled, y)\n",
    "\n",
    "# Save the model and scaler in separate files\n",
    "joblib.dump(cls, 'svm_trained_model.pkl')  # Save the trained SVM model\n",
    "joblib.dump(scaler, 'scaler.pkl')  # Save the scaler\n"
   ]
  },
  {
   "cell_type": "code",
   "execution_count": null,
   "id": "bd0cba96",
   "metadata": {
    "id": "bd0cba96"
   },
   "outputs": [
    {
     "name": "stderr",
     "output_type": "stream",
     "text": [
      "c:\\Users\\rupganesh\\AppData\\Local\\Programs\\Python\\Python313\\Lib\\site-packages\\sklearn\\base.py:486: UserWarning: X has feature names, but SVC was fitted without feature names\n",
      "  warnings.warn(\n"
     ]
    }
   ],
   "source": [
    "#Testing data using predict\n",
    "pred = cls.predict(X_test)"
   ]
  },
  {
   "cell_type": "markdown",
   "id": "db560ae5",
   "metadata": {
    "id": "db560ae5"
   },
   "source": [
    "Model evaluation"
   ]
  },
  {
   "cell_type": "code",
   "execution_count": null,
   "id": "56cc8a5c",
   "metadata": {
    "id": "56cc8a5c"
   },
   "outputs": [],
   "source": [
    "#importing accuracy_score from scikit-learn metrics\n",
    "from sklearn.metrics import accuracy_score"
   ]
  },
  {
   "cell_type": "code",
   "execution_count": null,
   "id": "26645bc3",
   "metadata": {
    "id": "26645bc3"
   },
   "outputs": [
    {
     "name": "stderr",
     "output_type": "stream",
     "text": [
      "c:\\Users\\rupganesh\\AppData\\Local\\Programs\\Python\\Python313\\Lib\\site-packages\\sklearn\\base.py:486: UserWarning: X has feature names, but SVC was fitted without feature names\n",
      "  warnings.warn(\n"
     ]
    }
   ],
   "source": [
    "#finding accuracy score on trained data\n",
    "xtrain_pred = cls.predict(X_train)\n",
    "ac = accuracy_score(y_train,xtrain_pred)"
   ]
  },
  {
   "cell_type": "code",
   "execution_count": null,
   "id": "2614553d",
   "metadata": {
    "colab": {
     "base_uri": "https://localhost:8080/"
    },
    "id": "2614553d",
    "outputId": "4a3d73ce-49c2-46de-daf4-1448031ebbd9"
   },
   "outputs": [
    {
     "name": "stdout",
     "output_type": "stream",
     "text": [
      "Training accuracy score 0.0849\n"
     ]
    }
   ],
   "source": [
    "#printing training accuracy score\n",
    "print(\"Training accuracy score\",ac)"
   ]
  },
  {
   "cell_type": "code",
   "execution_count": null,
   "id": "7f4ffd96",
   "metadata": {
    "id": "7f4ffd96"
   },
   "outputs": [
    {
     "name": "stderr",
     "output_type": "stream",
     "text": [
      "c:\\Users\\rupganesh\\AppData\\Local\\Programs\\Python\\Python313\\Lib\\site-packages\\sklearn\\base.py:486: UserWarning: X has feature names, but SVC was fitted without feature names\n",
      "  warnings.warn(\n"
     ]
    }
   ],
   "source": [
    "#finding accuracy score on test data\n",
    "xtest_pred = cls.predict(X_test)\n",
    "actest = accuracy_score(y_test,xtest_pred)"
   ]
  },
  {
   "cell_type": "code",
   "execution_count": null,
   "id": "496f8e12",
   "metadata": {
    "colab": {
     "base_uri": "https://localhost:8080/"
    },
    "id": "496f8e12",
    "outputId": "19edfe52-8429-49e9-8314-c41dc64d202c"
   },
   "outputs": [
    {
     "name": "stdout",
     "output_type": "stream",
     "text": [
      "Testing accuracy score 0.0854\n"
     ]
    }
   ],
   "source": [
    "#printing testing accuracy score\n",
    "print(\"Testing accuracy score\",actest)"
   ]
  },
  {
   "cell_type": "markdown",
   "id": "c58c32a7",
   "metadata": {},
   "source": [
    "Creating a prediction System"
   ]
  },
  {
   "cell_type": "code",
   "execution_count": null,
   "id": "d476a783",
   "metadata": {
    "id": "d476a783"
   },
   "outputs": [],
   "source": [
    "#taking new values to get prediction\n",
    "input_Data = (\"Female\",80.0,0,1,\"never\",25.19,6.6,140)"
   ]
  },
  {
   "cell_type": "code",
   "execution_count": null,
   "id": "230cf0e0",
   "metadata": {
    "id": "230cf0e0"
   },
   "outputs": [],
   "source": [
    "#label encoding the data\n",
    "Data1 = le.fit_transform(input_Data)"
   ]
  },
  {
   "cell_type": "code",
   "execution_count": null,
   "id": "8331bb1f",
   "metadata": {
    "colab": {
     "base_uri": "https://localhost:8080/"
    },
    "id": "8331bb1f",
    "outputId": "d5c52563-9cd0-4252-ec39-d2bc406e33ea"
   },
   "outputs": [
    {
     "name": "stdout",
     "output_type": "stream",
     "text": [
      "The person is Diabetic\n"
     ]
    }
   ],
   "source": [
    "import numpy as np\n",
    "#convertion of data to array\n",
    "data_array = np.asarray(Data1)\n",
    "#reshapping the data\n",
    "data_reshaped = data_array.reshape(1,-1)\n",
    "#prediciting the modal\n",
    "pred = cls.predict(data_reshaped)\n",
    "#printing the results\n",
    "if pred[0]==0:\n",
    "    print(\"The person is not Diabetic\")\n",
    "else:\n",
    "    print(\"The person is Diabetic\")"
   ]
  },
  {
   "cell_type": "code",
   "execution_count": null,
   "id": "19981df2",
   "metadata": {
    "colab": {
     "base_uri": "https://localhost:8080/"
    },
    "id": "19981df2",
    "outputId": "8b589005-a681-47ad-91ef-92c956e361e8"
   },
   "outputs": [
    {
     "name": "stdout",
     "output_type": "stream",
     "text": [
      "The person is Diabetic\n"
     ]
    }
   ],
   "source": [
    "import numpy as np\n",
    "input_Data2 = (\"Female\",60.0,0,0,\"never\",27.32,7.5,300)\n",
    "\n",
    "Data12 = le.fit_transform(input_Data2)\n",
    "\n",
    "data_array1 = np.asarray(Data12)\n",
    "\n",
    "data_reshaped1 = data_array1.reshape(1,-1)\n",
    "\n",
    "pred1 = cls.predict(data_reshaped1)\n",
    "\n",
    "if pred1[0]==0:\n",
    "    print(\"The person is not Diabetic\")\n",
    "else:\n",
    "    print(\"The person is Diabetic\")"
   ]
  },
  {
   "cell_type": "code",
   "execution_count": null,
   "id": "238b0aff",
   "metadata": {},
   "outputs": [],
   "source": [
    "import numpy as np\n",
    "import joblib\n",
    "from sklearn.preprocessing import LabelEncoder\n",
    "\n",
    "# Load the saved model and the scaler\n",
    "cls = joblib.load('svm_trained_model.pkl')  # Load the trained SVM model\n",
    "scaler = joblib.load('scaler.pkl')  # Load the saved scaler\n",
    "\n",
    "# Initialize the label encoder\n",
    "le = LabelEncoder()\n",
    "\n",
    "# Taking user input for the required features (updated input sequence)\n",
    "gender = input(\"Enter Gender (Male/Female): \")\n",
    "age = float(input(\"Enter Age: \"))\n",
    "hypertension = int(input(\"Enter Hypertension (1 for Yes, 0 for No): \"))\n",
    "heart_disease = int(input(\"Enter Heart Disease (1 for Yes, 0 for No): \"))  # Added heart disease\n",
    "smoking_history = input(\"Enter Smoking History (never, ever, former, unknown): \")\n",
    "bmi_level = float(input(\"Enter BMI Level: \"))  # Added BMI level\n",
    "hba1c_level = float(input(\"Enter HbA1c Level: \"))\n",
    "glucose_level = float(input(\"Enter Blood Glucose Level: \"))\n",
    "\n",
    "# Storing user input in a tuple (updated sequence)\n",
    "input_data = (gender, age, hypertension, heart_disease, smoking_history, bmi_level, hba1c_level, glucose_level)\n",
    "\n",
    "# Label Encoding for categorical features\n",
    "input_data_encoded = list(input_data)  # Convert tuple to list for easier manipulation\n",
    "input_data_encoded[0] = le.fit_transform([input_data_encoded[0]])[0]  # Encode gender\n",
    "input_data_encoded[4] = le.fit_transform([input_data_encoded[4]])[0]  # Encode smoking history\n",
    "\n",
    "# Convert the list to a numpy array and reshape it for prediction\n",
    "input_array = np.asarray(input_data_encoded).reshape(1, -1)\n",
    "\n",
    "# Apply the same scaler that was used during training\n",
    "input_array_scaled = scaler.transform(input_array)  # This applies scaling to the input data\n",
    "\n",
    "# Predicting the result using the trained SVM classifier\n",
    "pred = cls.predict(input_array_scaled)\n",
    "\n",
    "# Displaying the result\n",
    "if pred[0] == 0:\n",
    "    print(\"The person is not Diabetic.\")\n",
    "else:\n",
    "    print(\"The person is Diabetic.\")\n"
   ]
  },
  {
   "cell_type": "code",
   "execution_count": null,
   "id": "a5c42d48",
   "metadata": {},
   "outputs": [],
   "source": [
    "import numpy as np\n",
    "import joblib\n",
    "from sklearn.preprocessing import LabelEncoder\n",
    "import tkinter as tk\n",
    "from tkinter import messagebox\n",
    "from tkinter import ttk\n",
    "\n",
    "# Load the saved model and the scaler\n",
    "cls = joblib.load('svm_trained_model.pkl')  # Load the trained SVM model\n",
    "scaler = joblib.load('scaler.pkl')  # Load the saved scaler\n",
    "\n",
    "# Initialize the label encoder\n",
    "le = LabelEncoder()\n",
    "\n",
    "# Function to predict diabetes based on user input\n",
    "def predict_diabetes():\n",
    "    try:\n",
    "        # Getting values from the user input fields\n",
    "        gender = gender_var.get()\n",
    "        age = float(age_var.get())\n",
    "        hypertension = int(hypertension_var.get())\n",
    "        heart_disease = int(heart_disease_var.get())\n",
    "        smoking_history = smoking_history_var.get()\n",
    "        bmi_level = float(bmi_var.get())\n",
    "        hba1c_level = float(hba1c_var.get())\n",
    "        glucose_level = float(glucose_var.get())\n",
    "        \n",
    "        # Storing user input in a tuple\n",
    "        input_data = (gender, age, hypertension, heart_disease, smoking_history, bmi_level, hba1c_level, glucose_level)\n",
    "        \n",
    "        # Label Encoding for categorical features\n",
    "        input_data_encoded = list(input_data)  # Convert tuple to list for easier manipulation\n",
    "        input_data_encoded[0] = le.fit_transform([input_data_encoded[0]])[0]  # Encode gender\n",
    "        input_data_encoded[4] = le.fit_transform([input_data_encoded[4]])[0]  # Encode smoking history\n",
    "        \n",
    "        # Convert the list to a numpy array and reshape it for prediction\n",
    "        input_array = np.asarray(input_data_encoded).reshape(1, -1)\n",
    "        \n",
    "        # Apply the same scaler that was used during training\n",
    "        input_array_scaled = scaler.transform(input_array)  # This applies scaling to the input data\n",
    "        \n",
    "        # Predicting the result using the trained SVM classifier\n",
    "        pred = cls.predict(input_array_scaled)\n",
    "        \n",
    "        # Displaying the result\n",
    "        if pred[0] == 0:\n",
    "            messagebox.showinfo(\"Prediction Result\", \"The person is not Diabetic.\", icon=\"info\")\n",
    "        else:\n",
    "            messagebox.showinfo(\"Prediction Result\", \"The person is Diabetic.\", icon=\"info\")\n",
    "    \n",
    "    except Exception as e:\n",
    "        messagebox.showerror(\"Error\", f\"An error occurred: {e}\", icon=\"error\")\n",
    "\n",
    "# Create the main window\n",
    "root = tk.Tk()\n",
    "root.title(\"Diabetes Prediction System\")\n",
    "root.geometry(\"800x650\")  # Resize the window\n",
    "root.config(bg=\"#ffffff\")\n",
    "\n",
    "# Add a header frame with a background color (Refined Blue)\n",
    "header_frame = tk.Frame(root, bg=\"#0056b3\", pady=20)\n",
    "header_frame.pack(fill=\"x\")\n",
    "\n",
    "# Title Label\n",
    "title_label = tk.Label(header_frame, text=\"Diabetes Prediction System\", font=(\"Arial\", 20, \"bold\"), fg=\"white\", bg=\"#0056b3\")\n",
    "title_label.pack()\n",
    "\n",
    "# Create a Frame for better organization\n",
    "frame = tk.Frame(root, bg=\"#f9f9f9\", padx=30, pady=30)\n",
    "frame.pack(padx=20, pady=20, fill=\"both\", expand=True)\n",
    "\n",
    "# Centering the content inside the frame\n",
    "frame.grid_rowconfigure(0, weight=1)\n",
    "frame.grid_columnconfigure(0, weight=1)\n",
    "frame.grid_columnconfigure(1, weight=1)\n",
    "\n",
    "# Add a Heading for User Input\n",
    "input_label = tk.Label(frame, text=\"Enter Details for Prediction\", font=(\"Arial\", 16, \"bold\"), fg=\"#0056b3\", bg=\"#f9f9f9\")\n",
    "input_label.grid(row=0, column=0, columnspan=2, pady=10)\n",
    "\n",
    "# Gender Input\n",
    "gender_label = tk.Label(frame, text=\"Gender (Male/Female):\", font=(\"Arial\", 12), bg=\"#f9f9f9\")\n",
    "gender_label.grid(row=1, column=0, sticky=\"w\", pady=5, padx=10)\n",
    "gender_var = tk.StringVar()\n",
    "gender_combobox = ttk.Combobox(frame, textvariable=gender_var, values=[\"Male\", \"Female\"], state=\"readonly\", font=(\"Arial\", 12))\n",
    "gender_combobox.grid(row=1, column=1, pady=5)\n",
    "\n",
    "# Age Input\n",
    "age_label = tk.Label(frame, text=\"Age:\", font=(\"Arial\", 12), bg=\"#f9f9f9\")\n",
    "age_label.grid(row=2, column=0, sticky=\"w\", pady=5, padx=10)\n",
    "age_var = tk.StringVar()\n",
    "age_entry = tk.Entry(frame, textvariable=age_var, font=(\"Arial\", 12))\n",
    "age_entry.grid(row=2, column=1, pady=5)\n",
    "\n",
    "# Hypertension Input\n",
    "hypertension_label = tk.Label(frame, text=\"Hypertension (1 for Yes, 0 for No):\", font=(\"Arial\", 12), bg=\"#f9f9f9\")\n",
    "hypertension_label.grid(row=3, column=0, sticky=\"w\", pady=5, padx=10)\n",
    "hypertension_var = tk.StringVar()\n",
    "hypertension_entry = tk.Entry(frame, textvariable=hypertension_var, font=(\"Arial\", 12))\n",
    "hypertension_entry.grid(row=3, column=1, pady=5)\n",
    "\n",
    "# Heart Disease Input\n",
    "heart_disease_label = tk.Label(frame, text=\"Heart Disease (1 for Yes, 0 for No):\", font=(\"Arial\", 12), bg=\"#f9f9f9\")\n",
    "heart_disease_label.grid(row=4, column=0, sticky=\"w\", pady=5, padx=10)\n",
    "heart_disease_var = tk.StringVar()\n",
    "heart_disease_entry = tk.Entry(frame, textvariable=heart_disease_var, font=(\"Arial\", 12))\n",
    "heart_disease_entry.grid(row=4, column=1, pady=5)\n",
    "\n",
    "# Smoking History Input (Dropdown)\n",
    "smoking_history_label = tk.Label(frame, text=\"Smoking History (never, ever, former, unknown):\", font=(\"Arial\", 12), bg=\"#f9f9f9\")\n",
    "smoking_history_label.grid(row=5, column=0, sticky=\"w\", pady=5, padx=10)\n",
    "smoking_history_var = tk.StringVar()\n",
    "smoking_history_combobox = ttk.Combobox(frame, textvariable=smoking_history_var, values=[\"never\", \"ever\", \"former\", \"unknown\"], state=\"readonly\", font=(\"Arial\", 12))\n",
    "smoking_history_combobox.grid(row=5, column=1, pady=5)\n",
    "\n",
    "# BMI Input\n",
    "bmi_label = tk.Label(frame, text=\"BMI Level:(kg/m²)\", font=(\"Arial\", 12), bg=\"#f9f9f9\")\n",
    "bmi_label.grid(row=6, column=0, sticky=\"w\", pady=5, padx=10)\n",
    "bmi_var = tk.StringVar()\n",
    "bmi_entry = tk.Entry(frame, textvariable=bmi_var, font=(\"Arial\", 12))\n",
    "bmi_entry.grid(row=6, column=1, pady=5)\n",
    "\n",
    "# HbA1c Level Input\n",
    "hba1c_label = tk.Label(frame, text=\"HbA1c Level:(%)\", font=(\"Arial\", 12), bg=\"#f9f9f9\")\n",
    "hba1c_label.grid(row=7, column=0, sticky=\"w\", pady=5, padx=10)\n",
    "hba1c_var = tk.StringVar()\n",
    "hba1c_entry = tk.Entry(frame, textvariable=hba1c_var, font=(\"Arial\", 12))\n",
    "hba1c_entry.grid(row=7, column=1, pady=5)\n",
    "\n",
    "# Glucose Level Input\n",
    "glucose_label = tk.Label(frame, text=\"Blood Glucose Level:(mg/dL)\", font=(\"Arial\", 12), bg=\"#f9f9f9\")\n",
    "glucose_label.grid(row=8, column=0, sticky=\"w\", pady=5, padx=10)\n",
    "glucose_var = tk.StringVar()\n",
    "glucose_entry = tk.Entry(frame, textvariable=glucose_var, font=(\"Arial\", 12))\n",
    "glucose_entry.grid(row=8, column=1, pady=5)\n",
    "\n",
    "# Button to trigger prediction (Green Button)\n",
    "predict_button = tk.Button(frame, text=\"Predict Diabetes\", font=(\"Arial\", 14, \"bold\"), bg=\"#28a745\", fg=\"white\", command=predict_diabetes, relief=\"raised\", bd=5)\n",
    "predict_button.grid(row=9, column=0, columnspan=2, pady=20)\n",
    "\n",
    "# Footer Label with copyright notice\n",
    "footer_label = tk.Label(root, text=\"© 2024 Diabetes Prediction System. All rights reserved.\", font=(\"Arial\", 10), bg=\"#ffffff\", fg=\"#666666\")\n",
    "footer_label.pack(pady=10)\n",
    "\n",
    "# Run the main loop to display the GUI\n",
    "root.mainloop()\n"
   ]
  }
 ],
 "metadata": {
  "accelerator": "GPU",
  "colab": {
   "gpuType": "T4",
   "provenance": []
  },
  "kernelspec": {
   "display_name": "Python 3",
   "name": "python3"
  },
  "language_info": {
   "codemirror_mode": {
    "name": "ipython",
    "version": 3
   },
   "file_extension": ".py",
   "mimetype": "text/x-python",
   "name": "python",
   "nbconvert_exporter": "python",
   "pygments_lexer": "ipython3",
   "version": "3.13.0"
  }
 },
 "nbformat": 4,
 "nbformat_minor": 5
}
